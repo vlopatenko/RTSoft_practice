{
 "cells": [
  {
   "cell_type": "code",
   "execution_count": null,
   "metadata": {},
   "outputs": [],
   "source": [
    "import numpy as np\n",
    "import cv2"
   ]
  },
  {
   "cell_type": "code",
   "execution_count": null,
   "metadata": {},
   "outputs": [],
   "source": [
    "def draw_circle(x, frame):\n",
    "    cv2.circle(frame, center=(int(x[1]), int(x[0])), radius=5, color=[0, 0, 255], thickness=-1)"
   ]
  },
  {
   "cell_type": "code",
   "execution_count": null,
   "metadata": {},
   "outputs": [],
   "source": [
    "cap_in = cv2.VideoCapture('video.mp4')\n",
    "\n",
    "fourcc = cv2.VideoWriter_fourcc('M','J','P','G')\n",
    "size = int(cap_in.get(cv2.CAP_PROP_FRAME_WIDTH)), int(cap_in.get(cv2.CAP_PROP_FRAME_HEIGHT))\n",
    "fps = int(cap_in.get(cv2.CAP_PROP_FPS))\n",
    "\n",
    "cap_out = cv2.VideoWriter('output.mp4', fourcc=fourcc, fps=fps, frameSize=size)\n",
    "\n",
    "if not cap_in.isOpened():\n",
    "    raise IOError('Cannot open input video')\n",
    "\n",
    "if not cap_out.isOpened():\n",
    "    raise IOError('Cannot open output video')\n",
    "\n",
    "ESC = 27\n",
    "\n",
    "while True:\n",
    "    ret, frame = cap_in.read()\n",
    "\n",
    "    if not ret:\n",
    "        break\n",
    "\n",
    "    # Переводим цветное изображение в оттенки серого\n",
    "    gray = cv2.cvtColor(frame, cv2.COLOR_BGR2GRAY)\n",
    "\n",
    "    # Применяем размытие для сглажвивания несущественных переходов, которые могут быть приняты за контур\n",
    "    blured = cv2.GaussianBlur(gray, ksize=(5, 5), sigmaX=10, sigmaY=10)\n",
    "\n",
    "    # Бинаризация изображения (перевод в черно-белое)\n",
    "    ret, thresh = cv2.threshold(blured, 0, 255, cv2.THRESH_BINARY + cv2.THRESH_OTSU)\n",
    "\n",
    "    # Находим контуры, получаем древовидную иерархию\n",
    "    contours, hierarchy = cv2.findContours(thresh, mode=cv2.RETR_TREE, method=cv2.CHAIN_APPROX_SIMPLE)\n",
    "\n",
    "    if len(contours) != 0:\n",
    "        cv2.drawContours(frame, contours, contourIdx=-1, color=(0, 255, 0), thickness=3)\n",
    "\n",
    "        # Находим контур с максимальной площадью\n",
    "        nb_contour = max(contours, key=cv2.contourArea)\n",
    "\n",
    "        rect = cv2.minAreaRect(nb_contour)\n",
    "        box = cv2.boxPoints(rect)\n",
    "        box = np.int0(box)\n",
    "        cv2.drawContours(frame, [box], 0, (0, 0, 255), 2)\n",
    "\n",
    "    cap_out.write(frame)\n",
    "\n",
    "    cv2.imshow('Input', frame)\n",
    "\n",
    "    c = cv2.waitKey(1)\n",
    "    if c == ESC:\n",
    "        break\n",
    "\n",
    "cap_in.release()\n",
    "cap_out.release()\n",
    "\n",
    "cv2.destroyAllWindows()"
   ]
  }
 ],
 "metadata": {
  "kernelspec": {
   "display_name": "python-tf",
   "language": "python",
   "name": "python-tf"
  },
  "language_info": {
   "codemirror_mode": {
    "name": "ipython",
    "version": 3
   },
   "file_extension": ".py",
   "mimetype": "text/x-python",
   "name": "python",
   "nbconvert_exporter": "python",
   "pygments_lexer": "ipython3",
   "version": "3.6.9"
  }
 },
 "nbformat": 4,
 "nbformat_minor": 2
}
